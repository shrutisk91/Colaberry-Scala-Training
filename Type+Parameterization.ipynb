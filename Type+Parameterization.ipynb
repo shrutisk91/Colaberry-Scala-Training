{
 "cells": [
  {
   "cell_type": "code",
   "execution_count": 1,
   "metadata": {
    "collapsed": false
   },
   "outputs": [
    {
     "data": {
      "text/plain": [
       "defined \u001b[32mclass \u001b[36mTypeClass\u001b[0m"
      ]
     },
     "metadata": {},
     "output_type": "display_data"
    }
   ],
   "source": [
    "class TypeClass[T]"
   ]
  },
  {
   "cell_type": "code",
   "execution_count": 3,
   "metadata": {
    "collapsed": false
   },
   "outputs": [
    {
     "data": {
      "text/plain": [
       "defined \u001b[32mclass \u001b[36mParentClass\u001b[0m\n",
       "defined \u001b[32mclass \u001b[36mChildClass\u001b[0m"
      ]
     },
     "metadata": {},
     "output_type": "display_data"
    }
   ],
   "source": [
    "class ParentClass\n",
    "class ChildClass extends ParentClass"
   ]
  },
  {
   "cell_type": "code",
   "execution_count": 4,
   "metadata": {
    "collapsed": false
   },
   "outputs": [
    {
     "data": {
      "text/plain": [
       "\u001b[36mp\u001b[0m: \u001b[32mTypeClass\u001b[0m[\u001b[32mParentClass\u001b[0m] = cmd1$$user$TypeClass@6ac3816\n",
       "\u001b[36mc\u001b[0m: \u001b[32mTypeClass\u001b[0m[\u001b[32mChildClass\u001b[0m] = cmd1$$user$TypeClass@18606858"
      ]
     },
     "metadata": {},
     "output_type": "display_data"
    }
   ],
   "source": [
    "val p = new TypeClass[ParentClass]\n",
    "val c = new TypeClass[ChildClass]"
   ]
  },
  {
   "cell_type": "code",
   "execution_count": 5,
   "metadata": {
    "collapsed": false
   },
   "outputs": [
    {
     "data": {
      "text/plain": [
       "defined \u001b[32mclass \u001b[36mTypeClass\u001b[0m"
      ]
     },
     "metadata": {},
     "output_type": "display_data"
    }
   ],
   "source": [
    "class TypeClass[+T]"
   ]
  },
  {
   "cell_type": "code",
   "execution_count": 6,
   "metadata": {
    "collapsed": false
   },
   "outputs": [
    {
     "data": {
      "text/plain": [
       "\u001b[36mp\u001b[0m: \u001b[32mTypeClass\u001b[0m[\u001b[32mParentClass\u001b[0m] = cmd4$$user$TypeClass@3fd2fb4d\n",
       "\u001b[36mc\u001b[0m: \u001b[32mTypeClass\u001b[0m[\u001b[32mChildClass\u001b[0m] = cmd4$$user$TypeClass@25eb842"
      ]
     },
     "metadata": {},
     "output_type": "display_data"
    }
   ],
   "source": [
    "val p = new TypeClass[ParentClass]\n",
    "val c = new TypeClass[ChildClass]"
   ]
  },
  {
   "cell_type": "code",
   "execution_count": 7,
   "metadata": {
    "collapsed": false
   },
   "outputs": [
    {
     "data": {
      "text/plain": [
       "\u001b[36mpr\u001b[0m: \u001b[32mTypeClass\u001b[0m[\u001b[32mParentClass\u001b[0m] = cmd4$$user$TypeClass@25eb842"
      ]
     },
     "metadata": {},
     "output_type": "display_data"
    }
   ],
   "source": [
    "val pr : TypeClass[ParentClass] = c"
   ]
  },
  {
   "cell_type": "code",
   "execution_count": 8,
   "metadata": {
    "collapsed": false
   },
   "outputs": [
    {
     "data": {
      "text/plain": [
       "defined \u001b[32mclass \u001b[36mTypeClass\u001b[0m\n",
       "\u001b[36mp\u001b[0m: \u001b[32m$user\u001b[0m.\u001b[32mTypeClass\u001b[0m[\u001b[32mParentClass\u001b[0m] = cmd7$$user$TypeClass@31f714da\n",
       "\u001b[36mc\u001b[0m: \u001b[32m$user\u001b[0m.\u001b[32mTypeClass\u001b[0m[\u001b[32mChildClass\u001b[0m] = cmd7$$user$TypeClass@6778ea0b"
      ]
     },
     "metadata": {},
     "output_type": "display_data"
    }
   ],
   "source": [
    "class TypeClass[-T]\n",
    "val p = new TypeClass[ParentClass]\n",
    "val c = new TypeClass[ChildClass]"
   ]
  },
  {
   "cell_type": "code",
   "execution_count": 9,
   "metadata": {
    "collapsed": false
   },
   "outputs": [
    {
     "data": {
      "text/plain": [
       "\u001b[36mpr\u001b[0m: \u001b[32mTypeClass\u001b[0m[\u001b[32mChildClass\u001b[0m] = cmd7$$user$TypeClass@31f714da"
      ]
     },
     "metadata": {},
     "output_type": "display_data"
    }
   ],
   "source": [
    "val pr:TypeClass[ChildClass] = p"
   ]
  },
  {
   "cell_type": "code",
   "execution_count": 10,
   "metadata": {
    "collapsed": false
   },
   "outputs": [
    {
     "data": {
      "text/plain": [
       "defined \u001b[32mclass \u001b[36mSomeOtherClass\u001b[0m\n",
       "defined \u001b[32mclass \u001b[36mGreatList\u001b[0m\n",
       "defined \u001b[32mclass \u001b[36mSomeList\u001b[0m\n",
       "defined \u001b[32mclass \u001b[36mOrderedParentClass\u001b[0m\n",
       "\u001b[36mc\u001b[0m: \u001b[32m$user\u001b[0m.\u001b[32mSomeList\u001b[0m[\u001b[32m$user\u001b[0m.\u001b[32mOrderedParentClass\u001b[0m] = cmd9$$user$SomeList@51e649f0\n",
       "\u001b[36mg\u001b[0m: \u001b[32m$user\u001b[0m.\u001b[32mGreatList\u001b[0m[\u001b[32m$user\u001b[0m.\u001b[32mOrderedParentClass\u001b[0m] = cmd9$$user$GreatList@5950882\n",
       "\u001b[36mp\u001b[0m: \u001b[32m$user\u001b[0m.\u001b[32mOrderedParentClass\u001b[0m = cmd9$$user$OrderedParentClass@6cda46b6"
      ]
     },
     "metadata": {},
     "output_type": "display_data"
    }
   ],
   "source": [
    "class SomeOtherClass\n",
    "class GreatList[T]{\n",
    "  def add[S>:T](n:S)={\n",
    "  \n",
    "  }\n",
    "  def altAdd[S<:T](N:S)={\n",
    "  \n",
    "  }\n",
    "  \n",
    "  def altTraitAdd[T<:Ordered[T]](n:T)={\n",
    "  \n",
    "  }\n",
    "}\n",
    "\n",
    "class SomeList[T<:Ordered[T]]\n",
    "\n",
    "class OrderedParentClass extends Ordered[OrderedParentClass]{\n",
    "  def compare(that:OrderedParentClass) = {\n",
    "  0\n",
    "  }\n",
    "}\n",
    "\n",
    "val c = new SomeList[OrderedParentClass]\n",
    "val g = new GreatList[OrderedParentClass]\n",
    "val p = new OrderedParentClass()\n",
    "g.altTraitAdd(p)\n",
    "\n",
    "//val c = new SomeList[OrderedParentClass]"
   ]
  },
  {
   "cell_type": "code",
   "execution_count": null,
   "metadata": {
    "collapsed": true
   },
   "outputs": [],
   "source": []
  }
 ],
 "metadata": {
  "kernelspec": {
   "display_name": "Scala 2.11",
   "language": "scala211",
   "name": "scala211"
  },
  "language_info": {
   "codemirror_mode": "text/x-scala",
   "file_extension": ".scala",
   "mimetype": "text/x-scala",
   "name": "scala211",
   "pygments_lexer": "scala",
   "version": "2.11.7"
  }
 },
 "nbformat": 4,
 "nbformat_minor": 1
}
